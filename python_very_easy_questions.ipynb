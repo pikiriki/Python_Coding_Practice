{
 "cells": [
  {
   "cell_type": "code",
   "execution_count": 1,
   "id": "2813d95d",
   "metadata": {},
   "outputs": [],
   "source": [
    "# 1. Return the sum of two numbers\n",
    "# Create a function that takes two numbers as arguments and returns their sum.\n",
    "\n",
    "def sum_of_two_numbers(a, b):\n",
    "    return a + b"
   ]
  },
  {
   "cell_type": "code",
   "execution_count": 2,
   "id": "8b3a84da",
   "metadata": {},
   "outputs": [],
   "source": [
    "# 2. Return the next number from the integer passed\n",
    "# Create a function that takes a number as an argument, increments the number by +1 and returns the result.\n",
    "\n",
    "def next_number(number):\n",
    "    return number + 1"
   ]
  },
  {
   "cell_type": "code",
   "execution_count": 3,
   "id": "89697368",
   "metadata": {},
   "outputs": [],
   "source": [
    "# 3. Convert minutes into seconds\n",
    "# Write a function that takes an integer minutes and converts it to seconds.\n",
    "\n",
    "def minutes_into_seconds(minutes):\n",
    "    return minutes * 60"
   ]
  },
  {
   "cell_type": "code",
   "execution_count": 4,
   "id": "641c5be5",
   "metadata": {},
   "outputs": [],
   "source": [
    "# 4. Area of triangle\n",
    "\n",
    "def triArea(base, height):\n",
    "    return base * height / 2"
   ]
  },
  {
   "cell_type": "code",
   "execution_count": 5,
   "id": "57345633",
   "metadata": {},
   "outputs": [],
   "source": [
    "# 5. Buggy Code (Part 1)\n",
    "\n",
    "def cubes(number):\n",
    "    return number ** 3"
   ]
  },
  {
   "cell_type": "code",
   "execution_count": 6,
   "id": "925a6416",
   "metadata": {},
   "outputs": [],
   "source": [
    "# 6. Convert hours into seconds\n",
    "\n",
    "def how_many_seconds(hours):\n",
    "    return hours * 60 * 60"
   ]
  },
  {
   "cell_type": "code",
   "execution_count": 7,
   "id": "27112f1e",
   "metadata": {},
   "outputs": [],
   "source": [
    "# 7. Maximum edge of a triangle\n",
    "\n",
    "def next_edge(side1, side2):\n",
    "    return (side1 + side2) - 1"
   ]
  },
  {
   "cell_type": "code",
   "execution_count": 8,
   "id": "051dd400",
   "metadata": {},
   "outputs": [],
   "source": [
    "# 8. Return the remainder from two numbers\n",
    "\n",
    "def remainder(num1 , num2):\n",
    "    return num1 % num2"
   ]
  },
  {
   "cell_type": "code",
   "execution_count": 9,
   "id": "ab1311c0",
   "metadata": {},
   "outputs": [],
   "source": [
    "# 9. Return a string as an integer\n",
    "\n",
    "def string_int(string):\n",
    "    return int(string)"
   ]
  },
  {
   "cell_type": "code",
   "execution_count": 10,
   "id": "3fb52489",
   "metadata": {},
   "outputs": [],
   "source": [
    "# 10. Convert age to days\n",
    "\n",
    "def calc_age(age):\n",
    "    return age * 365"
   ]
  },
  {
   "cell_type": "code",
   "execution_count": 11,
   "id": "1836c7ec",
   "metadata": {},
   "outputs": [],
   "source": [
    "# 11. Find the perimeter of a rectangle\n",
    "\n",
    "def find_perimeter(length, width):\n",
    "    return 2 * (length + width)"
   ]
  },
  {
   "cell_type": "code",
   "execution_count": 12,
   "id": "c9f1842d",
   "metadata": {},
   "outputs": [],
   "source": [
    "# 12. Power calculator\n",
    "\n",
    "def circuit_power(voltage, current):\n",
    "    return voltage * current"
   ]
  },
  {
   "cell_type": "code",
   "execution_count": 13,
   "id": "f0326313",
   "metadata": {},
   "outputs": [],
   "source": [
    "# 13. Sum of polygon angles\n",
    "\n",
    "def sum_polygon(n):\n",
    "    return (n-2) * 180"
   ]
  },
  {
   "cell_type": "code",
   "execution_count": 14,
   "id": "a08c95db",
   "metadata": {},
   "outputs": [],
   "source": [
    "# 14. To the power of ___\n",
    "\n",
    "def calculate_exponent(base, exponent):\n",
    "    return base ** exponent"
   ]
  },
  {
   "cell_type": "code",
   "execution_count": 15,
   "id": "fc75758c",
   "metadata": {},
   "outputs": [],
   "source": [
    "# 15. Boolean to string conversion\n",
    "\n",
    "def bool_to_string(flag):\n",
    "    return str(flag)"
   ]
  },
  {
   "cell_type": "code",
   "execution_count": 16,
   "id": "352e1127",
   "metadata": {},
   "outputs": [],
   "source": [
    "# 16. Correct this mistakes\n",
    "\n",
    "def squared(b):\n",
    "    return b * b"
   ]
  },
  {
   "cell_type": "code",
   "execution_count": 17,
   "id": "59ab58e1",
   "metadata": {},
   "outputs": [],
   "source": [
    "# 17. Return the first element in a list\n",
    "\n",
    "def get_first_value(list):\n",
    "    return list[0]"
   ]
  },
  {
   "cell_type": "code",
   "execution_count": 18,
   "id": "573cb1dd",
   "metadata": {},
   "outputs": [],
   "source": [
    "# 18. Football points\n",
    "\n",
    "def football_points(wins, draws, losses):\n",
    "    return (3 * wins) + draws "
   ]
  },
  {
   "cell_type": "code",
   "execution_count": 19,
   "id": "f6ac6dfe",
   "metadata": {},
   "outputs": [],
   "source": [
    "# 19. The farm problem\n",
    "\n",
    "def animal_legs(chicken, cows, pigs):\n",
    "    chicken_legs = 2 * chicken\n",
    "    cow_legs = 4 * cows\n",
    "    pig_legs = 4 * pigs\n",
    "    return chicken_legs + cow_legs + pig_legs"
   ]
  },
  {
   "cell_type": "code",
   "execution_count": 20,
   "id": "bb7e06ef",
   "metadata": {},
   "outputs": [],
   "source": [
    "# 20. Basic Variable Assignment\n",
    "\n",
    "def name_string(name):\n",
    "    b = 'Edabit'\n",
    "    result = name + b\n",
    "    return result"
   ]
  },
  {
   "cell_type": "code",
   "execution_count": 21,
   "id": "20fde596",
   "metadata": {},
   "outputs": [],
   "source": [
    "# 21. Convert Hours and minutes into seconds\n",
    "\n",
    "def convert(hours, minutes):\n",
    "    hours_to_seconds = hours * 60 * 60\n",
    "    minutes_to_seconds = minutes * 60\n",
    "    return hours_to_seconds + minutes_to_seconds"
   ]
  },
  {
   "cell_type": "code",
   "execution_count": 22,
   "id": "56d9bc9d",
   "metadata": {},
   "outputs": [],
   "source": [
    "# 22. Burglary Series (14): Adjectives Total\n",
    "\n",
    "def total_amount_adjectives(dct):\n",
    "    return len(dct)"
   ]
  },
  {
   "cell_type": "code",
   "execution_count": 23,
   "id": "9124f293",
   "metadata": {},
   "outputs": [],
   "source": [
    "# 23. String to integer and versa\n",
    "\n",
    "def to_int(string):\n",
    "    return int(string)\n",
    "\n",
    "def to_str(int):\n",
    "    return str(int)"
   ]
  },
  {
   "cell_type": "code",
   "execution_count": 24,
   "id": "dc2addfd",
   "metadata": {},
   "outputs": [],
   "source": [
    "# 24. Check if objOne is equal to objtwo\n",
    "\n",
    "def is_equal(obj_one, obj_two):\n",
    "    return obj_one == obj_two"
   ]
  },
  {
   "cell_type": "code",
   "execution_count": 25,
   "id": "1de550ce",
   "metadata": {},
   "outputs": [],
   "source": [
    "# 25. Return something to me!\n",
    "\n",
    "def give_me_something(a):\n",
    "    return 'something ' + a"
   ]
  },
  {
   "cell_type": "code",
   "execution_count": 26,
   "id": "044ea21a",
   "metadata": {},
   "outputs": [],
   "source": [
    "# 26. Basketball Points\n",
    "\n",
    "def points(two_pointers, three_pointers):\n",
    "    two_pointer_scores = two_pointers * 2\n",
    "    three_pointer_scores = three_pointers * 3\n",
    "    return two_pointer_scores + three_pointer_scores"
   ]
  },
  {
   "cell_type": "code",
   "execution_count": 27,
   "id": "ee701e3a",
   "metadata": {},
   "outputs": [],
   "source": [
    "# 27. Are the numbers equal?\n",
    "\n",
    "def is_same_num(num1, num2):\n",
    "    return num1 == num2"
   ]
  },
  {
   "cell_type": "code",
   "execution_count": 28,
   "id": "eb44a6b3",
   "metadata": {},
   "outputs": [],
   "source": [
    "# 28. Is the number less than or equal to zero\n",
    "\n",
    "def less_than_or_equal_to_zero(number):\n",
    "    if number < 0 or number == 0:\n",
    "        return True\n",
    "    else:\n",
    "        return False"
   ]
  },
  {
   "cell_type": "code",
   "execution_count": 29,
   "id": "03c118b4",
   "metadata": {},
   "outputs": [],
   "source": [
    "# 29. Buggy Code (Part 4)\n",
    "\n",
    "def greeting(name):\n",
    "    if name == 'Mubashir':\n",
    "        return 'Hello, my love!'\n",
    "    else:\n",
    "        return 'Hello, ' + name + '!'"
   ]
  },
  {
   "cell_type": "code",
   "execution_count": 30,
   "id": "326106fb",
   "metadata": {},
   "outputs": [],
   "source": [
    "# 30. Proper Modulo Operator\n",
    "\n",
    "def mod(num1, num2):\n",
    "    return num1 % num2"
   ]
  },
  {
   "cell_type": "code",
   "execution_count": 31,
   "id": "c6bc4292",
   "metadata": {},
   "outputs": [],
   "source": [
    "# 31. Find the largest number in a list\n",
    "\n",
    "def findLargestNum(nums):\n",
    "    return max(nums)"
   ]
  },
  {
   "cell_type": "code",
   "execution_count": 32,
   "id": "4bd93c0c",
   "metadata": {},
   "outputs": [],
   "source": [
    "# 32. Find the smallest number in a list\n",
    "\n",
    "def find_smallest_num(nums):\n",
    "    return min(nums)"
   ]
  },
  {
   "cell_type": "code",
   "execution_count": 33,
   "id": "f6370cb0",
   "metadata": {},
   "outputs": [],
   "source": [
    "# 33. Fix the expression\n",
    "\n",
    "def is_seven(x):\n",
    "    if x == 7:\n",
    "        return True\n",
    "    else:\n",
    "        return False"
   ]
  },
  {
   "cell_type": "code",
   "execution_count": 34,
   "id": "af160ea7",
   "metadata": {},
   "outputs": [],
   "source": [
    "# 34. Difference of max and min numbers in list\n",
    "\n",
    "def difference_max_min(list):\n",
    "    return max(list) - min(list)"
   ]
  },
  {
   "cell_type": "code",
   "execution_count": 35,
   "id": "4caadd83",
   "metadata": {},
   "outputs": [],
   "source": [
    "# 35. Concatenating two integer lists\n",
    "\n",
    "def concat(list1, list2):\n",
    "    return list1 + list2"
   ]
  },
  {
   "cell_type": "code",
   "execution_count": 36,
   "id": "2f4c76e5",
   "metadata": {},
   "outputs": [],
   "source": [
    "# 36. Maximum Difference\n",
    "# Same as in question 34"
   ]
  },
  {
   "cell_type": "code",
   "execution_count": 37,
   "id": "3c53cebe",
   "metadata": {},
   "outputs": [],
   "source": [
    "# 37. Less than 100?\n",
    "# Given two numbers, return True if the sum of both numbers is less than 100. Otherwise return False.\n",
    "\n",
    "def less_than_100(num1, num2):\n",
    "    if num1 + num2 < 100:\n",
    "        return True\n",
    "    else: \n",
    "        return False"
   ]
  },
  {
   "cell_type": "code",
   "execution_count": 38,
   "id": "b0080005",
   "metadata": {},
   "outputs": [],
   "source": [
    "# 38. Return the last element in a list\n",
    "# Create a function that accepts a list and returns the last item in the list. The list can be either homogeneous or heterogeneous.\n",
    "\n",
    "def get_last_item(list):\n",
    "    return list[-1]"
   ]
  },
  {
   "cell_type": "code",
   "execution_count": 39,
   "id": "55cc5fde",
   "metadata": {},
   "outputs": [],
   "source": [
    "# 39. Name Greeting!\n",
    "# Create a function that takes a name and returns a greeting in the form of a string.\n",
    "\n",
    "def hello_name(name):\n",
    "    return 'Hello ' + name + '!'"
   ]
  },
  {
   "cell_type": "code",
   "execution_count": 40,
   "id": "a96aae96",
   "metadata": {},
   "outputs": [],
   "source": [
    "# 40. Two makes ten\n",
    "# Create a function that takes two arguments. Both arguments are integers, a and b. Return True if one of them is 10 or if their sum is 10\n",
    "\n",
    "def makes10(num1, num2):\n",
    "    if (num1 == 10 or num2 == 10) or (num1 + num2 == 10):\n",
    "        return True\n",
    "    else: \n",
    "        return False"
   ]
  },
  {
   "cell_type": "code",
   "execution_count": 41,
   "id": "9195c3f1",
   "metadata": {},
   "outputs": [],
   "source": [
    "# 41. Profitable Gamble\n",
    "# Create a function that takes three arguments prob, prize, pay and returns True if prob * prize > pay; otherwise return False.\n",
    "\n",
    "def profitable_gamble(prob, prize, pay):\n",
    "    if (prob * prize) > pay:\n",
    "        return True\n",
    "    else: \n",
    "        return False"
   ]
  },
  {
   "cell_type": "code",
   "execution_count": 42,
   "id": "ee7ddf6d",
   "metadata": {},
   "outputs": [],
   "source": [
    "# 42. Check if an integer is divisible by five\n",
    "# Create a function that returns True if an integer is evenly divisible by 5, and False otherwise.\n",
    "\n",
    "def divisible_by_five(num):\n",
    "    if num % 5 == 0:\n",
    "        return True\n",
    "    else:\n",
    "        return False"
   ]
  },
  {
   "cell_type": "code",
   "execution_count": 43,
   "id": "b974bca5",
   "metadata": {},
   "outputs": [],
   "source": [
    "# 43. Get the sum of all list elements\n",
    "# Create a function that takes a list and returns the sum of all numbers in the list.\n",
    "\n",
    "def get_sum_of_elements(list):\n",
    "    return sum(list)"
   ]
  },
  {
   "cell_type": "code",
   "execution_count": 44,
   "id": "9bb09cbd",
   "metadata": {},
   "outputs": [],
   "source": [
    "# 44. Frames per second\n",
    "# Create a function that returns the number of frames shown in a given number of minutes for a certain FPS.\n",
    "\n",
    "def frames(minutes, fps):\n",
    "    minutes_to_seconds = minutes * 60\n",
    "    return minutes_to_seconds * fps"
   ]
  },
  {
   "cell_type": "code",
   "execution_count": 45,
   "id": "46c3fda4",
   "metadata": {},
   "outputs": [],
   "source": [
    "# 45. Multiple of 100\n",
    "# Create a function that takes an integer and returns True if it's divisible by 100, otherwise return False.\n",
    "\n",
    "def divisible_by_100(number):\n",
    "    if number % 100 == 0:\n",
    "        return True\n",
    "    else: \n",
    "        return False"
   ]
  },
  {
   "cell_type": "code",
   "execution_count": 46,
   "id": "90c453e8",
   "metadata": {},
   "outputs": [],
   "source": [
    "# 46. Using the 'and' operator\n",
    "# Python has a logical operator and. The and operator takes two boolean values, and returns True if both values are True.\n",
    "\n",
    "def And(a, b):\n",
    "    return a and b"
   ]
  },
  {
   "cell_type": "code",
   "execution_count": 47,
   "id": "c0977a96",
   "metadata": {},
   "outputs": [],
   "source": [
    "# 47. Testing K^K == N?\n",
    "# Write a function that returns True if k^k == n for input (n, k) and return False otherwise.\n",
    "\n",
    "def k_to_k(n, k):\n",
    "    if k ** k == n:\n",
    "        return True\n",
    "    else:\n",
    "        return False"
   ]
  },
  {
   "cell_type": "code",
   "execution_count": 48,
   "id": "c6672a81",
   "metadata": {},
   "outputs": [],
   "source": [
    "# 48. Buggy Code (Part 2)\n",
    "# Fix the code in the code tab to pass this challenge (only syntax errors). Look at the examples below to get an idea of what the function should do.\n",
    "\n",
    "def max_num(n1, n2):\n",
    "    if n1 > n2:\n",
    "        return n1\n",
    "    else:\n",
    "        return n2"
   ]
  },
  {
   "cell_type": "code",
   "execution_count": 49,
   "id": "c75cf52c",
   "metadata": {},
   "outputs": [],
   "source": [
    "# 49. Compare strings by count of characters\n",
    "# Create a function that takes two strings as arguments and return either True or False depending on whether the total number of characters in the first string is equal to the total number of characters in the second string.\n",
    "\n",
    "def comp(text1, text2):\n",
    "    if len(text1) == len(text2):\n",
    "        return True\n",
    "    else: \n",
    "        return False"
   ]
  },
  {
   "cell_type": "code",
   "execution_count": 50,
   "id": "1a4fd0e0",
   "metadata": {},
   "outputs": [],
   "source": [
    "# 50. Divides evenly\n",
    "# Given two integers, a and b, return True if a can be divided evenly by b. Return False otherwise.\n",
    "\n",
    "def divides_evenly(a, b):\n",
    "    if a % b == 0:\n",
    "        return True\n",
    "    else:\n",
    "        return False"
   ]
  },
  {
   "cell_type": "code",
   "execution_count": 51,
   "id": "34774807",
   "metadata": {},
   "outputs": [],
   "source": [
    "# 51. Let's fuel up!\n",
    "# A vehicle needs 10 times the amount of fuel than the distance it travels. However, it must always carry a minimum of 100 fuel before setting off.\n",
    "# Create a function which calculates the amount of fuel it needs, given the distance.\n",
    "\n",
    "def calculate_fuel(distance):\n",
    "    if distance * 10 < 100:\n",
    "        return 100\n",
    "    else:\n",
    "        return distance * 10"
   ]
  },
  {
   "cell_type": "code",
   "execution_count": 52,
   "id": "5cfd69cb",
   "metadata": {},
   "outputs": [],
   "source": [
    "# 52. Is the String Empty?\n",
    "# Create a function that returns True if a string is empty and False otherwise.\n",
    "\n",
    "def is_empty(string):\n",
    "    if len(string) == 0:\n",
    "        return True\n",
    "    else:\n",
    "        return False"
   ]
  },
  {
   "cell_type": "code",
   "execution_count": 53,
   "id": "a11246ef",
   "metadata": {},
   "outputs": [],
   "source": [
    "# 53. Recursion to repeat a string n number of times\n",
    "# Create a recursive function that takes two parameters and repeats the string n number of times. The first parameter txt is the string to be repeated and the second parameter is the number of times the string is to be repeated.\n",
    "\n",
    "def repetition(string, n):\n",
    "    return string * n"
   ]
  },
  {
   "cell_type": "code",
   "execution_count": 54,
   "id": "bdc6c79e",
   "metadata": {},
   "outputs": [],
   "source": [
    "# 54. Buggy Code (Part 7)\n",
    "# Mubashir wants to swap two given numbers!\n",
    "# It is not returning the right values. Can you help him fix it?\n",
    "\n",
    "def swap(a, b):\n",
    "    return [b, a]"
   ]
  },
  {
   "cell_type": "code",
   "execution_count": 55,
   "id": "6d3e59d8",
   "metadata": {},
   "outputs": [],
   "source": [
    "# 55. Return negative\n",
    "# Create a function that takes a number as an argument and returns negative of that number. Return negative numbers without any change.\n",
    "\n",
    "def return_negative(number):\n",
    "    return - number"
   ]
  },
  {
   "cell_type": "code",
   "execution_count": 56,
   "id": "97887cba",
   "metadata": {},
   "outputs": [],
   "source": [
    "# 56. Sum of list less than 100 list remix\n",
    "# Given a list of numbers, return True if the sum of the values in the list is less than 100; otherwise return False.\n",
    "\n",
    "def list_less_than_100(list):\n",
    "    sum = 0\n",
    "    for i in range(0, len(list)):\n",
    "        sum = sum + list[i]\n",
    "    return sum"
   ]
  },
  {
   "cell_type": "code",
   "execution_count": 57,
   "id": "c94000d0",
   "metadata": {},
   "outputs": [],
   "source": [
    "# 57. Concatenate first and last name into one string\n",
    "# Given two strings, first_name and last_name, return a single string in the format \"last, first\".\n",
    "\n",
    "def concat_name(first_name, last_name):\n",
    "    return last_name + ', ' + first_name"
   ]
  },
  {
   "cell_type": "code",
   "execution_count": 58,
   "id": "3f4dc98d",
   "metadata": {},
   "outputs": [],
   "source": [
    "# 58. Miserable parady of a calculator\n",
    "# Create a function that will handle simple math expressions. The input is an expression in the form of a string.\n",
    "\n",
    "def calculator(string):\n",
    "    return eval(string)"
   ]
  },
  {
   "cell_type": "code",
   "execution_count": 59,
   "id": "d84b4a9a",
   "metadata": {},
   "outputs": [],
   "source": [
    "# 59. Concatenating first and last character of a string\n",
    "# Create a function that takes a string and returns the concatenated first and last character.\n",
    "\n",
    "def first_last(string):\n",
    "    return string[0] + string[-1]"
   ]
  },
  {
   "cell_type": "code",
   "execution_count": 60,
   "id": "b4f3148d",
   "metadata": {},
   "outputs": [],
   "source": [
    "# 60. Is the string odd or even?\n",
    "# Given a string, return True if its length is even or False if the length is odd\n",
    "\n",
    "def odd_or_even(string):\n",
    "    if len(string) % 2 == 0:\n",
    "        return True\n",
    "    else:\n",
    "        return False"
   ]
  },
  {
   "cell_type": "code",
   "execution_count": 61,
   "id": "19619b7d",
   "metadata": {},
   "outputs": [],
   "source": [
    "# 61. Pair management\n",
    "# Given two arguments, return a list which contains these two arguments.\n",
    "\n",
    "def make_pair(a, b):\n",
    "    return [a, b]"
   ]
  },
  {
   "cell_type": "code",
   "execution_count": 62,
   "id": "d3c3e894",
   "metadata": {},
   "outputs": [],
   "source": [
    "# 62. Front 3- Slice check repeat concatenate\n",
    "# Create a function that takes a string; we'll say that the front is the first three characters of the string. If the string length is less than three characters, the front is whatever is there. Return a new string, which is three copies of the front.\n",
    "\n",
    "def front3(string):\n",
    "    if len(string) <= 3:\n",
    "        return string * 3\n",
    "    else:\n",
    "        return string[0:3] * 3"
   ]
  },
  {
   "cell_type": "code",
   "execution_count": 63,
   "id": "6e46d5b5",
   "metadata": {},
   "outputs": [],
   "source": [
    "# 63. Fix the error: Value vs. Reference Types\n",
    "# Create a function that returns True if two lists contain identical values, and False otherwise.\n",
    "\n",
    "def check_equals(lst1, lst2):\n",
    "    if lst1 == lst2:\n",
    "        return True\n",
    "    else:\n",
    "        return False"
   ]
  },
  {
   "cell_type": "code",
   "execution_count": 64,
   "id": "b3746889",
   "metadata": {},
   "outputs": [],
   "source": [
    "# 64. Minimal 1: If boolean then boolean\n",
    "# Write a function that returns True if the given integer is even, and False if it's odd.\n",
    "\n",
    "def odd_even(num):\n",
    "    return num % 2 == 0"
   ]
  },
  {
   "cell_type": "code",
   "execution_count": 65,
   "id": "560b3716",
   "metadata": {},
   "outputs": [],
   "source": [
    "# 65. Even or odd (for a list)\n",
    "# Given a list of integers, determine whether the sum of its elements is even or odd.\n",
    "\n",
    "def even_or_odd(list):\n",
    "    sum = 0\n",
    "    for i in range(len(list)):\n",
    "        sum = sum + list[i]\n",
    "    if sum % 2 == 0:\n",
    "        return 'even'\n",
    "    else:\n",
    "        return 'odd'"
   ]
  },
  {
   "cell_type": "code",
   "execution_count": 66,
   "id": "570ff97f",
   "metadata": {},
   "outputs": [],
   "source": [
    "# 66. Using lambda functions\n",
    "# Create a function that returns its given argument, but by using a lambda function\n",
    "\n",
    "lambda_func = lambda output: output"
   ]
  },
  {
   "cell_type": "code",
   "execution_count": 67,
   "id": "3b1a724c",
   "metadata": {},
   "outputs": [],
   "source": [
    "# 67. Inches to feet\n",
    "# Create a function that accepts a measurement value in inches and returns the equivalent of the measurement value in feet.\n",
    "\n",
    "def inches_to_feet(inches):\n",
    "    if inches < 12:\n",
    "        return 0\n",
    "    else:\n",
    "        return inches / 12"
   ]
  },
  {
   "cell_type": "code",
   "execution_count": 68,
   "id": "3d93096f",
   "metadata": {},
   "outputs": [],
   "source": [
    "# 68. Buggy Code (Part 3)\n",
    "# Fix the code in the code tab to pass this challenge (only syntax errors).\n",
    "\n",
    "def sum_lst(lst):\n",
    "    total = 0\n",
    "    for i in range(0, len(lst)):\n",
    "        total += lst[i]\n",
    "    return total    "
   ]
  },
  {
   "cell_type": "code",
   "execution_count": 69,
   "id": "308563c6",
   "metadata": {},
   "outputs": [],
   "source": [
    "# 69. Destructuring list 3\n",
    "# Use destructuring assignment on the given list to assign the string \"lips\" to the variable provided. Do not use list indexing, or assigning variable names to any of the other strings.\n",
    "\n",
    "arr = ['eyes', 'nose', 'lips', 'ears']\n",
    "_, _, lips, _ = arr"
   ]
  },
  {
   "cell_type": "code",
   "execution_count": 70,
   "id": "f9533810",
   "metadata": {},
   "outputs": [],
   "source": [
    "# 70. Fix the error: check whether a given number is odd\n",
    "# Éowyn has written the function is_odd() to check if a given number is odd or not. Unfortunately, the function does not return the correct result for all the inputs. Help her fix the error.\n",
    "\n",
    "# repetited question"
   ]
  },
  {
   "cell_type": "code",
   "execution_count": 71,
   "id": "bfefbcd5",
   "metadata": {},
   "outputs": [],
   "source": [
    "# 71. Convert number to strin of dashes\n",
    "# Create a function that takes a number (from 1 - 60) and returns a corresponding string of hyphens.\n",
    "\n",
    "def num_to_dashes(number):\n",
    "    if number <= 60 and number >= 1:\n",
    "        return '-' * number\n",
    "    else:\n",
    "        return 'Please enter a number between 1 and 60'"
   ]
  },
  {
   "cell_type": "code",
   "execution_count": 72,
   "id": "2c0a1e3a",
   "metadata": {},
   "outputs": [],
   "source": [
    "# 72. Check if a list contains a given number\n",
    "# Write a function to check if a list contains a particular number\n",
    "\n",
    "def check(lst, el):\n",
    "    if el in lst:\n",
    "        return True\n",
    "    else:\n",
    "        return False"
   ]
  },
  {
   "cell_type": "code",
   "execution_count": 73,
   "id": "e366d22d",
   "metadata": {},
   "outputs": [],
   "source": [
    "# 73. Is the number even or odd?\n",
    "# Repeat"
   ]
  },
  {
   "cell_type": "code",
   "execution_count": 74,
   "id": "b19b2940",
   "metadata": {},
   "outputs": [],
   "source": [
    "# 74. Is the word singular or plural?\n",
    "# Create a function that takes in a word and determines whether or not it is plural. A plural word is one that ends in \"s\".\n",
    "\n",
    "def is_plural(word):\n",
    "    if word[-1] == 's':\n",
    "        return True\n",
    "    else:\n",
    "        return False"
   ]
  },
  {
   "cell_type": "code",
   "execution_count": 75,
   "id": "c9be1c42",
   "metadata": {},
   "outputs": [],
   "source": [
    "# 75. On/off switches\n",
    "# Create a function that returns how many possible arrangements can come from a certain number of switches (on / off). In other words, for a given number of switches, how many different patterns of on and off can we have\n",
    "\n",
    "def pos_com(number):\n",
    "    return 2 ** number"
   ]
  },
  {
   "cell_type": "code",
   "execution_count": 76,
   "id": "95cc00a3",
   "metadata": {},
   "outputs": [],
   "source": [
    "# 76. Is the last character an 'N'?\n",
    "# Create a function that takes a string (a random name). If the last character of the name is an \"n\", return True, otherwise return False.\n",
    "\n",
    "def is_last_character_n(name):\n",
    "    if name[-1] == 'n':\n",
    "        return True\n",
    "    else:\n",
    "        return False"
   ]
  },
  {
   "cell_type": "code",
   "execution_count": 77,
   "id": "1cf19b8b",
   "metadata": {},
   "outputs": [],
   "source": [
    "# 77. Find the bug: Returning the container\n",
    "# The packaging system is running wild! The candy is lying loose all over in the warehouse, the cereal is missing, and bread is stuffed in a bottle. What is going on here? The candy should be in plastic and the bread should be in a bag.\n",
    "\n",
    "def get_container(product):\n",
    "    matches = {\n",
    "        'Bread' : 'bottle',\n",
    "        'Milk' : 'bottle',\n",
    "        'Beer' : 'bottle',\n",
    "        'Eggs' : 'carton',\n",
    "        'Cerials' : None,\n",
    "        'Candy' : 'plastic',\n",
    "        'Cheese' : None\n",
    "    }\n",
    "    return matches.get(product)"
   ]
  },
  {
   "cell_type": "code",
   "execution_count": 78,
   "id": "91944e70",
   "metadata": {},
   "outputs": [],
   "source": [
    "# 78. List from a range of numbers\n",
    "# Create a function that returns a list of all the integers between two given numbers start and end.\n",
    "\n",
    "def range_of_num(start, end):\n",
    "    if start < end:\n",
    "        x = []\n",
    "        for i in range(start + 1, end):\n",
    "            x.append(i)\n",
    "        return x\n",
    "    elif start == end:\n",
    "        return []\n",
    "    else:\n",
    "        return 'Start should be lesser or equal to the end in this function.'"
   ]
  },
  {
   "cell_type": "code",
   "execution_count": 79,
   "id": "517f17f6",
   "metadata": {},
   "outputs": [],
   "source": [
    "# 79. Burrrrrrp\n",
    "# Create a function that returns the string \"Burp\" with the amount of \"r's\" determined by the input parameters of the function\n",
    "\n",
    "def long_burp(number_of_r):\n",
    "    return 'Bu' + ('r' * number_of_r) + 'p'"
   ]
  },
  {
   "cell_type": "code",
   "execution_count": 80,
   "id": "f0016ec1",
   "metadata": {},
   "outputs": [],
   "source": [
    "# 80. Nth even number\n",
    "# Create a function that takes a number n and returns the nth even number beginning with 0 as the first.\n",
    "\n",
    "def nth_even(n):\n",
    "    return (2 * n) - 2"
   ]
  },
  {
   "cell_type": "code",
   "execution_count": 1,
   "id": "cbf753cf",
   "metadata": {},
   "outputs": [],
   "source": [
    "# 81. Char-to-ASCII\n",
    "# Create a function that returns the ASCII value of the passed in character.\n",
    "\n",
    "def ctoa(character):\n",
    "    return ord(character)"
   ]
  },
  {
   "cell_type": "code",
   "execution_count": 5,
   "id": "08b92448",
   "metadata": {},
   "outputs": [],
   "source": [
    "# 82. Evaluate an equation\n",
    "# Create a function that evaluates an equation.\n",
    "\n",
    "def eq(expression):\n",
    "    return eval(expression)"
   ]
  },
  {
   "cell_type": "code",
   "execution_count": 7,
   "id": "167574bf",
   "metadata": {},
   "outputs": [],
   "source": [
    "# 83. WordCharWord\n",
    "# Create a function that will put the first argument, a character, between every word in the second argument, a string.\n",
    "\n",
    "def add(string_1, string_2):\n",
    "    return string_2.replace(' ', string_1)"
   ]
  },
  {
   "cell_type": "code",
   "execution_count": 13,
   "id": "e446f8f6",
   "metadata": {},
   "outputs": [],
   "source": [
    "# 84. Flip the boolean\n",
    "# Create a function that returns the opposite of the given boolean, as a number.\n",
    "\n",
    "def flip_bool(bool):\n",
    "    return int(not bool)"
   ]
  },
  {
   "cell_type": "code",
   "execution_count": 16,
   "id": "ec371602",
   "metadata": {},
   "outputs": [],
   "source": [
    "# 85. Fix the errors / Comparing Arrays\n",
    "# Programmer Pete is trying to create a function that returns True if two lists share the same length and have identical numerical values at every index, otherwise, it will return False.\n",
    "\n",
    "def check_equals(list1, list2):\n",
    "    if list1 == list2:\n",
    "        return True\n",
    "    else: \n",
    "        return False"
   ]
  },
  {
   "cell_type": "code",
   "execution_count": 19,
   "id": "9b166bc6",
   "metadata": {},
   "outputs": [],
   "source": [
    "# 86. Area of a rectangle\n",
    "# Create a function that calculates the area of a rectangle. If the arguments are invalid, your function must return -1.\n",
    "\n",
    "def area(length, width):\n",
    "    if length > 0 and width > 0:\n",
    "        return length * width\n",
    "    else:\n",
    "        return -1"
   ]
  },
  {
   "cell_type": "code",
   "execution_count": 31,
   "id": "602be243",
   "metadata": {},
   "outputs": [],
   "source": [
    "# 87. Destructuring assignment\n",
    "# Create variables first, second, third and other from the given list using Destructuring Assignment (check the Resources tab for some examples).\n",
    "\n",
    "def des_ass(array):\n",
    "    first, second, third, *other = array"
   ]
  },
  {
   "cell_type": "code",
   "execution_count": null,
   "id": "44bc5d03",
   "metadata": {},
   "outputs": [],
   "source": [
    "# 88. Moving house\n",
    "# Given a person's age and the number of times they've moved house as moves, return the average number of years that they've spent living in the same house.\n",
    "\n",
    "def years_in_one_house(age, moves):\n",
    "    return round(age/(moves + 1))"
   ]
  },
  {
   "cell_type": "code",
   "execution_count": 36,
   "id": "f8e10a80",
   "metadata": {},
   "outputs": [],
   "source": [
    "# 89. Check if all values are true\n",
    "# Create a function that returns True if all parameters are truthy, and False otherwise\n",
    "\n",
    "def all_truthy(*boolean):\n",
    "    list_of_bool = []\n",
    "    for i in boolean:\n",
    "        \n",
    "#Couldn't do it\n",
    "    "
   ]
  },
  {
   "cell_type": "code",
   "execution_count": 32,
   "id": "7f8c1457",
   "metadata": {},
   "outputs": [],
   "source": [
    "# 90. Word without first character\n",
    "# Create a function that takes a word and returns the new word without including the first character.\n",
    "\n",
    "def new_word(string):\n",
    "    return string[1:]"
   ]
  },
  {
   "cell_type": "code",
   "execution_count": 1,
   "id": "cac4c853",
   "metadata": {},
   "outputs": [],
   "source": [
    "# 91. Indexing with integer division\n",
    "# Given an index using INTEGER division and a list, return the value of the list with the given index.\n",
    "\n",
    "def value_at(array, int_div_expression):\n",
    "    return array[int(int_div_expression)]"
   ]
  },
  {
   "cell_type": "code",
   "execution_count": 3,
   "id": "22973437",
   "metadata": {},
   "outputs": [],
   "source": [
    "# 92. Solve the equation\n",
    "# Create a function that takes an equation (e.g. \"1+1\"), and returns the answer.\n",
    "\n",
    "def equation(string_expression):\n",
    "    return eval(string_expression)"
   ]
  },
  {
   "cell_type": "code",
   "execution_count": 15,
   "id": "b5b52f90",
   "metadata": {},
   "outputs": [],
   "source": [
    "# 93. Convert all list items to string\n",
    "# Create a function that takes a list of integers and strings. Convert integers to strings and return the new list.\n",
    "\n",
    "def parse_list(array):\n",
    "    list_in_string = map(str, array)\n",
    "    return list(list_in_string)"
   ]
  },
  {
   "cell_type": "code",
   "execution_count": 24,
   "id": "de68b69e",
   "metadata": {},
   "outputs": [],
   "source": [
    "# 94. Buggy Code (Part 5)\n",
    "# Mubashir created an infinite loop! Help him by fixing the code in the code tab to pass this challenge.\n",
    "\n",
    "def print_list(n):\n",
    "    result, i = [], 1\n",
    "    while i <= n:\n",
    "        result += [i]\n",
    "        i += 1\n",
    "    return result"
   ]
  },
  {
   "cell_type": "code",
   "execution_count": 27,
   "id": "a3c3396d",
   "metadata": {},
   "outputs": [],
   "source": [
    "# 95. Triangle and Paralleologram area finder\n",
    "# Write a function that accepts base (decimal), height (decimal) and shape (\"triangle\", \"parallelogram\") as input and calculates the area of that shape.\n",
    "\n",
    "def area_shape(width, height, shape):\n",
    "    if shape == 'triangle':\n",
    "        return 0.5 * width * height\n",
    "    else:\n",
    "        return width * height"
   ]
  }
 ],
 "metadata": {
  "kernelspec": {
   "display_name": "Python 3",
   "language": "python",
   "name": "python3"
  },
  "language_info": {
   "codemirror_mode": {
    "name": "ipython",
    "version": 3
   },
   "file_extension": ".py",
   "mimetype": "text/x-python",
   "name": "python",
   "nbconvert_exporter": "python",
   "pygments_lexer": "ipython3",
   "version": "3.8.8"
  }
 },
 "nbformat": 4,
 "nbformat_minor": 5
}
