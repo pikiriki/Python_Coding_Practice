{
 "cells": [
  {
   "cell_type": "code",
   "execution_count": 2,
   "id": "2813d95d",
   "metadata": {},
   "outputs": [],
   "source": [
    "# 1. Return the sum of two numbers\n",
    "\n",
    "def sum_of_two_numbers(a, b):\n",
    "    return a + b"
   ]
  },
  {
   "cell_type": "code",
   "execution_count": 6,
   "id": "8b3a84da",
   "metadata": {},
   "outputs": [],
   "source": [
    "# 2. Return the next number from the integer passed\n",
    "\n",
    "def next_number(number):"
   ]
  },
  {
   "cell_type": "code",
   "execution_count": 9,
   "id": "89697368",
   "metadata": {},
   "outputs": [],
   "source": [
    "# 3. Convert minutes into seconds\n",
    "\n",
    "def minutes_into_seconds(minutes):\n",
    "    return minutes * 60"
   ]
  },
  {
   "cell_type": "code",
   "execution_count": 12,
   "id": "641c5be5",
   "metadata": {},
   "outputs": [],
   "source": [
    "# 4. Area of triangle\n",
    "\n",
    "def triArea(base, height):\n",
    "    return base * height / 2"
   ]
  },
  {
   "cell_type": "code",
   "execution_count": 13,
   "id": "57345633",
   "metadata": {},
   "outputs": [],
   "source": [
    "# 5. Buggy Code (Part 1)\n",
    "\n",
    "def cubes(number):\n",
    "    return number ** 3"
   ]
  },
  {
   "cell_type": "code",
   "execution_count": 15,
   "id": "925a6416",
   "metadata": {},
   "outputs": [],
   "source": [
    "# 6. Convert hours into seconds\n",
    "\n",
    "def how_many_seconds(hours):\n",
    "    return hours * 60 * 60"
   ]
  },
  {
   "cell_type": "code",
   "execution_count": 17,
   "id": "27112f1e",
   "metadata": {},
   "outputs": [],
   "source": [
    "# 7. Maximum edge of a triangle\n",
    "\n",
    "def next_edge(side1, side2):\n",
    "    return (side1 + side2) - 1"
   ]
  },
  {
   "cell_type": "code",
   "execution_count": 19,
   "id": "051dd400",
   "metadata": {},
   "outputs": [],
   "source": [
    "# 8. Return the remainder from two numbers\n",
    "\n",
    "def remainder(num1 , num2):\n",
    "    return num1 % num2"
   ]
  },
  {
   "cell_type": "code",
   "execution_count": 21,
   "id": "ab1311c0",
   "metadata": {},
   "outputs": [],
   "source": [
    "# 9. Return a string as an integer\n",
    "\n",
    "def string_int(string):\n",
    "    return int(string)"
   ]
  },
  {
   "cell_type": "code",
   "execution_count": 23,
   "id": "3fb52489",
   "metadata": {},
   "outputs": [],
   "source": [
    "# 10. Convert age to days\n",
    "\n",
    "def calc_age(age):\n",
    "    return age * 365"
   ]
  },
  {
   "cell_type": "code",
   "execution_count": 25,
   "id": "1836c7ec",
   "metadata": {},
   "outputs": [],
   "source": [
    "# 11. Find the perimeter of a rectangle\n",
    "\n",
    "def find_perimeter(length, width):\n",
    "    return 2 * (length + width)"
   ]
  },
  {
   "cell_type": "code",
   "execution_count": 27,
   "id": "c9f1842d",
   "metadata": {},
   "outputs": [],
   "source": [
    "# 12. Power calculator\n",
    "\n",
    "def circuit_power(voltage, current):\n",
    "    return voltage * current"
   ]
  },
  {
   "cell_type": "code",
   "execution_count": 29,
   "id": "f0326313",
   "metadata": {},
   "outputs": [],
   "source": [
    "# 13. Sum of polygon angles\n",
    "\n",
    "def sum_polygon(n):\n",
    "    return (n-2) * 180"
   ]
  },
  {
   "cell_type": "code",
   "execution_count": 31,
   "id": "a08c95db",
   "metadata": {},
   "outputs": [],
   "source": [
    "# 14. To the power of ___\n",
    "\n",
    "def calculate_exponent(base, exponent):\n",
    "    return base ** exponent"
   ]
  },
  {
   "cell_type": "code",
   "execution_count": 36,
   "id": "fc75758c",
   "metadata": {},
   "outputs": [],
   "source": [
    "# 15. Boolean to string conversion\n",
    "\n",
    "def bool_to_string(flag):\n",
    "    return str(flag)"
   ]
  },
  {
   "cell_type": "code",
   "execution_count": 3,
   "id": "352e1127",
   "metadata": {},
   "outputs": [],
   "source": [
    "# 16. Correct this mistakes\n",
    "\n",
    "def squared(b):\n",
    "    return b * b"
   ]
  },
  {
   "cell_type": "code",
   "execution_count": 5,
   "id": "59ab58e1",
   "metadata": {},
   "outputs": [],
   "source": [
    "# 17. Return the first element in a list\n",
    "\n",
    "def get_first_value(list):\n",
    "    return list[0]"
   ]
  },
  {
   "cell_type": "code",
   "execution_count": 8,
   "id": "573cb1dd",
   "metadata": {},
   "outputs": [],
   "source": [
    "# 18. Football points\n",
    "\n",
    "def football_points(wins, draws, losses):\n",
    "    return (3 * wins) + draws "
   ]
  },
  {
   "cell_type": "code",
   "execution_count": 11,
   "id": "f6ac6dfe",
   "metadata": {},
   "outputs": [],
   "source": [
    "# 19. The farm problem\n",
    "\n",
    "def animal_legs(chicken, cows, pigs):\n",
    "    chicken_legs = 2 * chicken\n",
    "    cow_legs = 4 * cows\n",
    "    pig_legs = 4 * pigs\n",
    "    return chicken_legs + cow_legs + pig_legs"
   ]
  },
  {
   "cell_type": "code",
   "execution_count": 14,
   "id": "bb7e06ef",
   "metadata": {},
   "outputs": [],
   "source": [
    "# 20. Basic Variable Assignment\n",
    "\n",
    "def name_string(name):\n",
    "    b = 'Edabit'\n",
    "    result = name + b\n",
    "    return result"
   ]
  },
  {
   "cell_type": "code",
   "execution_count": 2,
   "id": "20fde596",
   "metadata": {},
   "outputs": [],
   "source": [
    "# 21. Convert Hours and minutes into seconds\n",
    "\n",
    "def convert(hours, minutes):\n",
    "    hours_to_seconds = hours * 60 * 60\n",
    "    minutes_to_seconds = minutes * 60\n",
    "    return hours_to_seconds + minutes_to_seconds"
   ]
  },
  {
   "cell_type": "code",
   "execution_count": 6,
   "id": "56d9bc9d",
   "metadata": {},
   "outputs": [],
   "source": [
    "# 22. Burglary Series (14): Adjectives Total\n",
    "\n",
    "def total_amount_adjectives(dct):\n",
    "    return len(dct)"
   ]
  },
  {
   "cell_type": "code",
   "execution_count": 9,
   "id": "9124f293",
   "metadata": {},
   "outputs": [],
   "source": [
    "# 23. String to integer and versa\n",
    "\n",
    "def to_int(string):\n",
    "    return int(string)\n",
    "\n",
    "def to_str(int):\n",
    "    return str(int)"
   ]
  },
  {
   "cell_type": "code",
   "execution_count": 14,
   "id": "dc2addfd",
   "metadata": {},
   "outputs": [],
   "source": [
    "# 24. Check if objOne is equal to objtwo\n",
    "\n",
    "def is_equal(obj_one, obj_two):\n",
    "    return obj_one == obj_two"
   ]
  },
  {
   "cell_type": "code",
   "execution_count": 15,
   "id": "1de550ce",
   "metadata": {},
   "outputs": [],
   "source": [
    "# 25. Return something to me!\n",
    "\n",
    "def give_me_something(a):\n",
    "    return 'something ' + a"
   ]
  },
  {
   "cell_type": "code",
   "execution_count": 2,
   "id": "044ea21a",
   "metadata": {},
   "outputs": [],
   "source": [
    "# 26. Basketball Points\n",
    "\n",
    "def points(two_pointers, three_pointers):\n",
    "    two_pointer_scores = two_pointers * 2\n",
    "    three_pointer_scores = three_pointers * 3\n",
    "    return two_pointer_scores + three_pointer_scores"
   ]
  },
  {
   "cell_type": "code",
   "execution_count": 4,
   "id": "ee701e3a",
   "metadata": {},
   "outputs": [],
   "source": [
    "# 27. Are the numbers equal?\n",
    "\n",
    "def is_same_num(num1, num2):\n",
    "    return num1 == num2"
   ]
  },
  {
   "cell_type": "code",
   "execution_count": 6,
   "id": "eb44a6b3",
   "metadata": {},
   "outputs": [],
   "source": [
    "# 28. Is the number less than or equal to zero\n",
    "\n",
    "def less_than_or_equal_to_zero(number):\n",
    "    if number < 0 or number == 0:\n",
    "        return True\n",
    "    else:\n",
    "        return False"
   ]
  },
  {
   "cell_type": "code",
   "execution_count": 12,
   "id": "03c118b4",
   "metadata": {},
   "outputs": [],
   "source": [
    "# 29. Buggy Code (Part 4)\n",
    "\n",
    "def greeting(name):\n",
    "    if name == 'Mubashir':\n",
    "        return 'Hello, my love!'\n",
    "    else:\n",
    "        return 'Hello, ' + name + '!'"
   ]
  },
  {
   "cell_type": "code",
   "execution_count": 14,
   "id": "326106fb",
   "metadata": {},
   "outputs": [],
   "source": [
    "# 30. Proper Modulo Operator\n",
    "\n",
    "def mod(num1, num2):\n",
    "    return num1 % num2"
   ]
  },
  {
   "cell_type": "code",
   "execution_count": 16,
   "id": "c6bc4292",
   "metadata": {},
   "outputs": [],
   "source": [
    "# 31. Find the largest number in a list\n",
    "\n",
    "def findLargestNum(nums):\n",
    "    return max(nums)"
   ]
  },
  {
   "cell_type": "code",
   "execution_count": 18,
   "id": "4bd93c0c",
   "metadata": {},
   "outputs": [],
   "source": [
    "# 32. Find the smallest number in a list\n",
    "\n",
    "def find_smallest_num(nums):\n",
    "    return min(nums)"
   ]
  },
  {
   "cell_type": "code",
   "execution_count": 21,
   "id": "f6370cb0",
   "metadata": {},
   "outputs": [],
   "source": [
    "# 33. Fix the expression\n",
    "\n",
    "def is_seven(x):\n",
    "    if x == 7:\n",
    "        return True\n",
    "    else:\n",
    "        return False"
   ]
  },
  {
   "cell_type": "code",
   "execution_count": 24,
   "id": "af160ea7",
   "metadata": {},
   "outputs": [],
   "source": [
    "# 34. Difference of max and min numbers in list\n",
    "\n",
    "def difference_max_min(list):\n",
    "    return max(list) - min(list)"
   ]
  },
  {
   "cell_type": "code",
   "execution_count": 28,
   "id": "4caadd83",
   "metadata": {},
   "outputs": [],
   "source": [
    "# 35. Concatenating two integer lists\n",
    "\n",
    "def concat(list1, list2):\n",
    "    return list1 + list2"
   ]
  },
  {
   "cell_type": "code",
   "execution_count": null,
   "id": "2f4c76e5",
   "metadata": {},
   "outputs": [],
   "source": []
  },
  {
   "cell_type": "code",
   "execution_count": null,
   "id": "3c53cebe",
   "metadata": {},
   "outputs": [],
   "source": []
  },
  {
   "cell_type": "code",
   "execution_count": null,
   "id": "b0080005",
   "metadata": {},
   "outputs": [],
   "source": []
  },
  {
   "cell_type": "code",
   "execution_count": null,
   "id": "55cc5fde",
   "metadata": {},
   "outputs": [],
   "source": []
  },
  {
   "cell_type": "code",
   "execution_count": null,
   "id": "a96aae96",
   "metadata": {},
   "outputs": [],
   "source": []
  },
  {
   "cell_type": "code",
   "execution_count": null,
   "id": "9195c3f1",
   "metadata": {},
   "outputs": [],
   "source": []
  }
 ],
 "metadata": {
  "kernelspec": {
   "display_name": "Python 3",
   "language": "python",
   "name": "python3"
  },
  "language_info": {
   "codemirror_mode": {
    "name": "ipython",
    "version": 3
   },
   "file_extension": ".py",
   "mimetype": "text/x-python",
   "name": "python",
   "nbconvert_exporter": "python",
   "pygments_lexer": "ipython3",
   "version": "3.8.8"
  }
 },
 "nbformat": 4,
 "nbformat_minor": 5
}
